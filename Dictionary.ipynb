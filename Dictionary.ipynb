{
 "cells": [
  {
   "cell_type": "code",
   "execution_count": 72,
   "metadata": {
    "collapsed": false
   },
   "outputs": [],
   "source": [
    "import gensim\n",
    "import pandas as pd \n",
    "import numpy as np\n",
    "from matplotlib import pyplot as plt\n",
    "import scipy\n",
    "\n",
    "# Load Google's pre-trained Word2Vec model.\n",
    "model = gensim.models.KeyedVectors.load_word2vec_format('./model/GoogleNews-vectors-negative300.bin', binary=True) \n",
    "len_embedding = 300"
   ]
  },
  {
   "cell_type": "code",
   "execution_count": 64,
   "metadata": {
    "collapsed": false
   },
   "outputs": [],
   "source": [
    "#Get dictionary data\n",
    "path_kernel = './data/cide/cide-kernel.dig'\n",
    "path_full = './data/cide/cide.dig'\n",
    "kernel_tokens = {}\n",
    "kernel_vectors = {}\n",
    "list_kernel = []\n",
    "out_of_vocab_kernel = {}\n",
    "out_of_vocab_full = {}\n",
    "rest_tokens = {}\n",
    "rest_vectors = {}\n",
    "with open(path_kernel,'r') as f:\n",
    "    nb_tokens = int(f.readline())\n",
    "    for i in range(nb_tokens):\n",
    "        tokens = f.readline().split('|')\n",
    "        number = int(tokens[0].split(':')[0])\n",
    "        token = tokens[0].split(':')[1]\n",
    "        try:\n",
    "            kernel_vectors[number] = model[token]\n",
    "            kernel_tokens[number] = [token]\n",
    "        except KeyError:\n",
    "            out_of_vocab_kernel[number] = token\n",
    "        list_kernel.append(token)\n",
    "edge_list = []\n",
    "with open(path_full,'r') as f:\n",
    "    lines = f.readlines()\n",
    "    nb_tokens = int(lines[0])\n",
    "    for i in range(1,nb_tokens+1):\n",
    "        tokens = lines[i].split('|')\n",
    "        number = int(tokens[0].split(':')[0])\n",
    "        token = tokens[0].split(':')[1]\n",
    "        if token not in list_kernel:\n",
    "            try:\n",
    "                rest_vectors[number] = model[token]\n",
    "                rest_tokens[number] = token\n",
    "            except KeyError:\n",
    "                out_of_vocab_full[number] = token\n",
    "    for i in range(nb_tokens+1,len(lines)):\n",
    "        edge_list.append([int(x) for x in lines[i].split('->')])\n",
    "        "
   ]
  },
  {
   "cell_type": "code",
   "execution_count": 40,
   "metadata": {
    "collapsed": false
   },
   "outputs": [
    {
     "data": {
      "text/plain": [
       "1142"
      ]
     },
     "execution_count": 40,
     "metadata": {},
     "output_type": "execute_result"
    }
   ],
   "source": [
    "len(out_of_vocab_full.values())"
   ]
  },
  {
   "cell_type": "code",
   "execution_count": 80,
   "metadata": {
    "collapsed": false
   },
   "outputs": [],
   "source": [
    "#Reconstruct dictionary\n",
    "dictionary = {}\n",
    "for edge in edge_list:\n",
    "    if not edge[1] in dictionary:\n",
    "        dictionary[edge[1]] = [edge[0]]\n",
    "    else:\n",
    "        dictionary[edge[1]].append(edge[0])"
   ]
  },
  {
   "cell_type": "code",
   "execution_count": 81,
   "metadata": {
    "collapsed": false
   },
   "outputs": [
    {
     "name": "stdout",
     "output_type": "stream",
     "text": [
      "Layer #1, 47145 left to define\n",
      "Layer #2, 21450 left to define\n",
      "Layer #3, 8325 left to define\n",
      "Layer #4, 3185 left to define\n",
      "Layer #5, 1261 left to define\n",
      "Layer #6, 404 left to define\n",
      "Layer #7, 113 left to define\n",
      "Layer #8, 20 left to define\n",
      "Layer #9, 2 left to define\n"
     ]
    }
   ],
   "source": [
    "known_tokens = list(kernel_tokens.keys())\n",
    "out_of_vocab_tokens = list(out_of_vocab_kernel.keys()) + list(out_of_vocab_full.keys())\n",
    "order_tokens = {}\n",
    "order_tokens[0] = known_tokens\n",
    "learned_vectors = kernel_vectors.copy()\n",
    "\n",
    "to_define = dictionary.copy()\n",
    "layer = 1\n",
    "while len(to_define)>0:\n",
    "    print('Layer #{}, {} left to define'.format(layer,len(to_define)))\n",
    "    order_tokens[layer] = []\n",
    "    new_tokens = []\n",
    "    list_to_define = list(to_define.keys())\n",
    "    for token in list_to_define:\n",
    "        def_status = []\n",
    "        definition = dictionary[token]\n",
    "        for definer in definition:\n",
    "            if definer in known_tokens:\n",
    "                def_status.append(0)\n",
    "            elif definer in out_of_vocab_tokens:\n",
    "                def_status.append(1)\n",
    "            else:\n",
    "                def_status.append(2)\n",
    "        if 0 and 2 not in def_status:\n",
    "            out_of_vocab_tokens.append(token)\n",
    "            del to_define[token]\n",
    "        elif 2 not in def_status:\n",
    "            order_tokens[layer].append(token)\n",
    "            new_vector = np.zeros(len_embedding)\n",
    "            for definer_i in range(len(definition)):\n",
    "                if def_status[definer_i] == 0:\n",
    "                    new_vector+=learned_vectors[definition[definer_i]]\n",
    "            learned_vectors[token] = new_vector\n",
    "            new_tokens.append(token)\n",
    "            del to_define[token]\n",
    "    known_tokens += new_tokens\n",
    "    layer+=1\n",
    "            "
   ]
  },
  {
   "cell_type": "code",
   "execution_count": 88,
   "metadata": {
    "collapsed": false
   },
   "outputs": [
    {
     "name": "stderr",
     "output_type": "stream",
     "text": [
      "C:\\Users\\User1\\Anaconda3\\lib\\site-packages\\scipy\\spatial\\distance.py:505: RuntimeWarning: invalid value encountered in double_scalars\n",
      "  dist = 1.0 - np.dot(u, v) / (norm(u) * norm(v))\n",
      "C:\\Users\\User1\\Anaconda3\\lib\\site-packages\\scipy\\spatial\\distance.py:505: RuntimeWarning: invalid value encountered in double_scalars\n",
      "  dist = 1.0 - np.dot(u, v) / (norm(u) * norm(v))\n"
     ]
    },
    {
     "data": {
      "image/png": "[encoded data removed]",
      "text/plain": [
       "<matplotlib.figure.Figure at 0x2c340f62208>"
      ]
     },
     "metadata": {},
     "output_type": "display_data"
    }
   ],
   "source": [
    "average_sim = []\n",
    "\n",
    "for i in range(len(order_tokens.keys())):\n",
    "    learned_tokens = order_tokens[i]\n",
    "    similarities = []\n",
    "    for token in learned_tokens:\n",
    "        if token in rest_vectors:\n",
    "            similarities.append(scipy.spatial.distance.cosine(learned_vectors[token],rest_vectors[token]))\n",
    "    average_sim.append(np.nanmean(similarities))\n",
    "    \n",
    "random_pairs = 100000\n",
    "rest_keys = list(rest_vectors.keys())\n",
    "pairs = []\n",
    "for i in range(random_pairs):\n",
    "    numbers = np.random.randint(0,len(rest_keys),2)\n",
    "    token1 = rest_keys[numbers[0]]\n",
    "    token2 = rest_keys[numbers[1]]\n",
    "    pairs.append(scipy.spatial.distance.cosine(rest_vectors[token1],rest_vectors[token2]))\n",
    "avg_pairs = np.mean(pairs)\n",
    "random_sim = np.repeat(avg_pairs,len(average_sim))\n",
    "plt.plot(average_sim)\n",
    "plt.plot(random_sim)\n",
    "plt.show()\n",
    "        \n"
   ]
  },
  {
   "cell_type": "code",
   "execution_count": 86,
   "metadata": {
    "collapsed": false
   },
   "outputs": [
    {
     "data": {
      "text/plain": [
       "[nan,\n",
       " nan,\n",
       " 0.80604028762356461,\n",
       " 0.81419250287063061,\n",
       " 0.81493701858642864,\n",
       " 0.81445402151628243,\n",
       " 0.81311128029200797,\n",
       " 0.81654769861552501,\n",
       " 0.8111433976838498,\n",
       " 0.87435673535588887]"
      ]
     },
     "execution_count": 86,
     "metadata": {},
     "output_type": "execute_result"
    }
   ],
   "source": [
    "average_sim"
   ]
  },
  {
   "cell_type": "code",
   "execution_count": null,
   "metadata": {
    "collapsed": true
   },
   "outputs": [],
   "source": []
  }
 ],
 "metadata": {
  "kernelspec": {
   "display_name": "Python 3",
   "language": "python",
   "name": "python3"
  },
  "language_info": {
   "codemirror_mode": {
    "name": "ipython",
    "version": 3
   },
   "file_extension": ".py",
   "mimetype": "text/x-python",
   "name": "python",
   "nbconvert_exporter": "python",
   "pygments_lexer": "ipython3",
   "version": "3.6.0"
  }
 },
 "nbformat": 4,
 "nbformat_minor": 2
}
